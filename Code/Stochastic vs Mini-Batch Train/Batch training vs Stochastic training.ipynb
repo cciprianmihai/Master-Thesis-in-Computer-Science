{
 "cells": [
  {
   "cell_type": "markdown",
   "metadata": {},
   "source": [
    "#### Batch training vs Stochastic training\n",
    "\n",
    "In order for Tensorflow to compute the variable gradient for backpropagation to work, we have to measure the loss on one example or on the average of multiple examples at once. Stochastic training is only putting througone randomly selected example at a time, just we did in the previous example, while batch training will take a larger portion and average over them before updating the variables. Batch sizes may vary.\n",
    "\n",
    ">In the example below, we would perform update on the variable using batch gradient descent"
   ]
  },
  {
   "cell_type": "code",
   "execution_count": 2,
   "metadata": {},
   "outputs": [],
   "source": [
    "# Load modules\n",
    "import matplotlib.pyplot as plt\n",
    "import numpy as np\n",
    "import tensorflow as tf\n",
    "# Start session\n",
    "sess = tf.Session()"
   ]
  },
  {
   "cell_type": "markdown",
   "metadata": {},
   "source": [
    "> we declare the batch size. This is how many data observation will be fed into the computational graph as once:\n",
    "    "
   ]
  },
  {
   "cell_type": "code",
   "execution_count": 3,
   "metadata": {},
   "outputs": [],
   "source": [
    "# Declare batch size\n",
    "batch_size = 20"
   ]
  },
  {
   "cell_type": "markdown",
   "metadata": {},
   "source": [
    "> Next we declare the data, Variables and Placholders. We will make them 2 dimensional because of the batch size. The first dimension which will hold the batch size will be set to None. None here is a generalization which means it can accept any dimension later, and the second dimension is number of features/points a particular data has."
   ]
  },
  {
   "cell_type": "code",
   "execution_count": 4,
   "metadata": {},
   "outputs": [
    {
     "name": "stdout",
     "output_type": "stream",
     "text": [
      "WARNING:tensorflow:From C:\\Users\\Ciprian\\Anaconda3\\envs\\tf\\lib\\site-packages\\tensorflow\\python\\framework\\op_def_library.py:263: colocate_with (from tensorflow.python.framework.ops) is deprecated and will be removed in a future version.\n",
      "Instructions for updating:\n",
      "Colocations handled automatically by placer.\n"
     ]
    }
   ],
   "source": [
    "# Training data\n",
    "x_vals = np.random.normal(1, 0.1, 100)\n",
    "# Training labels\n",
    "y_vals = np.repeat(10., 100)\n",
    "\n",
    "X_data = tf.placeholder(shape=[None, 1], dtype=tf.float32)\n",
    "Y_target = tf.placeholder(shape=[None, 1], dtype=tf.float32)\n",
    "\n",
    "# It is good practice to initialize the weight to zero\n",
    "W = tf.Variable(tf.constant(0., shape=[1,1]))"
   ]
  },
  {
   "cell_type": "markdown",
   "metadata": {},
   "source": [
    ">Now we add our operation to the graph, which will now be matrix\n",
    "multiplication -because we vectorizing over multiple samples at a time- instead of regular multiplication. Remember that matrix\n",
    "multiplication is not communicative so we have to enter the matrices\n",
    "in the correct order in the matmul() function:"
   ]
  },
  {
   "cell_type": "code",
   "execution_count": 5,
   "metadata": {},
   "outputs": [],
   "source": [
    "# Compute the output of the model\n",
    "Y_pred = tf.matmul(X_data, W)\n",
    "\n",
    "# Initialize our variables\n",
    "init = tf.global_variables_initializer()\n",
    "\n",
    "# Initialize our variables\n",
    "sess.run(init)"
   ]
  },
  {
   "cell_type": "markdown",
   "metadata": {},
   "source": [
    "> Since we are doing batch update, our Loss function (L2 norm in this case) will change because we have to average over all the L2 losses of each data point in the batch. We do this by wrapping our normal L2 loss function in the Tensorflow's ```reduce_mean()``` function:"
   ]
  },
  {
   "cell_type": "code",
   "execution_count": 6,
   "metadata": {},
   "outputs": [],
   "source": [
    "# Declare the loss function\n",
    "loss = tf.reduce_mean(tf.square(Y_pred - Y_target))\n",
    "\n",
    "# Declare the optimizer - Gradient Descent\n",
    "my_opt = tf.train.GradientDescentOptimizer(0.02)\n",
    "\n",
    "# Declare the training step\n",
    "train_step = my_opt.minimize(loss)"
   ]
  },
  {
   "cell_type": "markdown",
   "metadata": {},
   "source": [
    "> Finally we define our training loop and iterate on the training step to optimize the algorithm. Here we will store the resulting losses on every 20 intervals in a list so we can plot and compare the result with stochastic version "
   ]
  },
  {
   "cell_type": "code",
   "execution_count": 7,
   "metadata": {},
   "outputs": [
    {
     "name": "stdout",
     "output_type": "stream",
     "text": [
      "Step # 5 W =  [[1.824272]]\n",
      "Loss =  66.95858\n",
      "Step # 10 W =  [[3.3331332]]\n",
      "Loss =  42.69097\n",
      "Step # 15 W =  [[4.55641]]\n",
      "Loss =  29.92422\n",
      "Step # 20 W =  [[5.5538607]]\n",
      "Loss =  20.099674\n",
      "Step # 25 W =  [[6.3709054]]\n",
      "Loss =  12.830023\n",
      "Step # 30 W =  [[7.0389266]]\n",
      "Loss =  9.857984\n",
      "Step # 35 W =  [[7.58155]]\n",
      "Loss =  7.229051\n",
      "Step # 40 W =  [[8.015248]]\n",
      "Loss =  4.251708\n",
      "Step # 45 W =  [[8.376527]]\n",
      "Loss =  3.401818\n",
      "Step # 50 W =  [[8.676042]]\n",
      "Loss =  2.9867425\n",
      "Step # 55 W =  [[8.898878]]\n",
      "Loss =  1.8812854\n",
      "Step # 60 W =  [[9.071788]]\n",
      "Loss =  1.4664032\n",
      "Step # 65 W =  [[9.21834]]\n",
      "Loss =  1.2530934\n",
      "Step # 70 W =  [[9.337782]]\n",
      "Loss =  1.0264456\n",
      "Step # 75 W =  [[9.456874]]\n",
      "Loss =  0.9006096\n",
      "Step # 80 W =  [[9.537166]]\n",
      "Loss =  1.0744296\n",
      "Step # 85 W =  [[9.609883]]\n",
      "Loss =  0.8459217\n",
      "Step # 90 W =  [[9.652787]]\n",
      "Loss =  1.0010897\n",
      "Step # 95 W =  [[9.698616]]\n",
      "Loss =  0.9800722\n",
      "Step # 100 W =  [[9.746974]]\n",
      "Loss =  0.9355\n"
     ]
    }
   ],
   "source": [
    "loss_batch = []\n",
    "\n",
    "for i in range(100):\n",
    "    # Pick a random 20 data points\n",
    "    rand_index = np.random.choice(100, size=batch_size)\n",
    "    # Transpose to the correct shape\n",
    "    x_batch = np.transpose([x_vals[rand_index]])  \n",
    "    y_batch = np.transpose([y_vals[rand_index]])\n",
    "    sess.run(train_step, feed_dict={X_data: x_batch, Y_target:y_batch})\n",
    "    # Print the result after 5 intervals\n",
    "    if(i+1) % 5 == 0:\n",
    "        print('Step #', str(i+1), 'W = ', str(sess.run(W)))\n",
    "        temp_loss = sess.run(loss, feed_dict={X_data: x_batch, Y_target:y_batch})\n",
    "        loss_batch.append(temp_loss)\n",
    "        print('Loss = ', temp_loss)\n"
   ]
  },
  {
   "cell_type": "markdown",
   "metadata": {},
   "source": [
    "> Batch training and stochastic training differ in their optimization method\n",
    "and their convergence. Finding a good batch size can be difficult. To see\n",
    "how convergence differs between batch and stochastic, we are going to plot the batch loss from above against the stochastic loss."
   ]
  },
  {
   "cell_type": "code",
   "execution_count": 8,
   "metadata": {},
   "outputs": [],
   "source": [
    "# Re-initialize our weight to zero again and perform the optimization on the same dataset\n",
    "# It is good practice to initialize the weight to zero\n",
    "W = tf.Variable(tf.constant(0., shape=[1,1]))   \n",
    "Y_pred = tf.matmul(X_data, W)\n",
    "\n",
    "# Initialize our variables\n",
    "init = tf.global_variables_initializer()\n",
    "\n",
    "# Initialize our variables\n",
    "sess.run(init)"
   ]
  },
  {
   "cell_type": "code",
   "execution_count": 9,
   "metadata": {},
   "outputs": [
    {
     "name": "stdout",
     "output_type": "stream",
     "text": [
      "Step # 5 W =  [[0.]]\n",
      "Loss =  66.84189\n",
      "Step # 10 W =  [[0.]]\n",
      "Loss =  49.156258\n",
      "Step # 15 W =  [[0.]]\n",
      "Loss =  39.487366\n",
      "Step # 20 W =  [[0.]]\n",
      "Loss =  18.0978\n",
      "Step # 25 W =  [[0.]]\n",
      "Loss =  14.031954\n",
      "Step # 30 W =  [[0.]]\n",
      "Loss =  8.40734\n",
      "Step # 35 W =  [[0.]]\n",
      "Loss =  1.3476138\n",
      "Step # 40 W =  [[0.]]\n",
      "Loss =  3.683083\n",
      "Step # 45 W =  [[0.]]\n",
      "Loss =  7.269193\n",
      "Step # 50 W =  [[0.]]\n",
      "Loss =  1.7295023\n",
      "Step # 55 W =  [[0.]]\n",
      "Loss =  7.796634\n",
      "Step # 60 W =  [[0.]]\n",
      "Loss =  0.3272937\n",
      "Step # 65 W =  [[0.]]\n",
      "Loss =  1.3776621\n",
      "Step # 70 W =  [[0.]]\n",
      "Loss =  0.78344655\n",
      "Step # 75 W =  [[0.]]\n",
      "Loss =  2.6053634\n",
      "Step # 80 W =  [[0.]]\n",
      "Loss =  4.8219056\n",
      "Step # 85 W =  [[0.]]\n",
      "Loss =  2.1416843\n",
      "Step # 90 W =  [[0.]]\n",
      "Loss =  0.67145985\n",
      "Step # 95 W =  [[0.]]\n",
      "Loss =  0.13702273\n",
      "Step # 100 W =  [[0.]]\n",
      "Loss =  0.10586429\n"
     ]
    }
   ],
   "source": [
    "loss_stochastic = []\n",
    "\n",
    "for i in range(100):\n",
    "    # Pick a random 1 data points\n",
    "    rand_index = np.random.choice(100, size=1)\n",
    "    # Transpose to the correct shape\n",
    "    x_rand = np.transpose([x_vals[rand_index]]) \n",
    "    y_rand = np.transpose([y_vals[rand_index]])\n",
    "    sess.run(train_step, feed_dict={X_data: x_rand, Y_target:y_rand})\n",
    "    # Print the result after 5 intervals\n",
    "    if(i+1) % 5 == 0:\n",
    "        print('Step #', str(i+1), 'W = ', str(sess.run(W)))\n",
    "        temp_loss = sess.run(loss, feed_dict={X_data: x_rand, Y_target:y_rand})\n",
    "        loss_stochastic.append(temp_loss)\n",
    "        print('Loss = ', temp_loss)"
   ]
  },
  {
   "cell_type": "code",
   "execution_count": 14,
   "metadata": {},
   "outputs": [
    {
     "data": {
      "image/png": "[encoded data removed]",
      "text/plain": [
       "<Figure size 432x288 with 1 Axes>"
      ]
     },
     "metadata": {
      "needs_background": "light"
     },
     "output_type": "display_data"
    }
   ],
   "source": [
    "# Plot data\n",
    "\n",
    "plt.plot(range(0, 100, 5), loss_batch, 'r--', label='Mini-batch Loss')\n",
    "plt.plot(range(0, 100, 5), loss_stochastic, 'b-', label='Stochastic Loss')\n",
    "plt.legend(loc='upper right')\n",
    "plt.savefig('f4.png')\n",
    "plt.show()"
   ]
  },
  {
   "cell_type": "code",
   "execution_count": null,
   "metadata": {},
   "outputs": [],
   "source": []
  }
 ],
 "metadata": {
  "kernelspec": {
   "display_name": "Python 3",
   "language": "python",
   "name": "python3"
  },
  "language_info": {
   "codemirror_mode": {
    "name": "ipython",
    "version": 3
   },
   "file_extension": ".py",
   "mimetype": "text/x-python",
   "name": "python",
   "nbconvert_exporter": "python",
   "pygments_lexer": "ipython3",
   "version": "3.7.3"
  }
 },
 "nbformat": 4,
 "nbformat_minor": 2
}
